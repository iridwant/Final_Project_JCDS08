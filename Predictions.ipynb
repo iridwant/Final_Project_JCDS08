{
 "cells": [
  {
   "cell_type": "code",
   "execution_count": 72,
   "metadata": {},
   "outputs": [],
   "source": [
    "import pandas as pd\n",
    "import numpy as np"
   ]
  },
  {
   "cell_type": "code",
   "execution_count": 73,
   "metadata": {},
   "outputs": [
    {
     "data": {
      "text/html": [
       "<div>\n",
       "<style scoped>\n",
       "    .dataframe tbody tr th:only-of-type {\n",
       "        vertical-align: middle;\n",
       "    }\n",
       "\n",
       "    .dataframe tbody tr th {\n",
       "        vertical-align: top;\n",
       "    }\n",
       "\n",
       "    .dataframe thead th {\n",
       "        text-align: right;\n",
       "    }\n",
       "</style>\n",
       "<table border=\"1\" class=\"dataframe\">\n",
       "  <thead>\n",
       "    <tr style=\"text-align: right;\">\n",
       "      <th></th>\n",
       "      <th>region</th>\n",
       "      <th>price</th>\n",
       "      <th>year</th>\n",
       "      <th>manufacturer</th>\n",
       "      <th>condition</th>\n",
       "      <th>cylinders</th>\n",
       "      <th>fuel</th>\n",
       "      <th>odometer</th>\n",
       "      <th>title_status</th>\n",
       "      <th>transmission</th>\n",
       "      <th>drive</th>\n",
       "      <th>type</th>\n",
       "      <th>paint_color</th>\n",
       "      <th>state</th>\n",
       "      <th>lat</th>\n",
       "      <th>long</th>\n",
       "    </tr>\n",
       "  </thead>\n",
       "  <tbody>\n",
       "    <tr>\n",
       "      <th>13</th>\n",
       "      <td>denver</td>\n",
       "      <td>7995</td>\n",
       "      <td>2010.0</td>\n",
       "      <td>chevrolet</td>\n",
       "      <td>excellent</td>\n",
       "      <td>8 cylinders</td>\n",
       "      <td>gas</td>\n",
       "      <td>194050.0</td>\n",
       "      <td>clean</td>\n",
       "      <td>automatic</td>\n",
       "      <td>4wd</td>\n",
       "      <td>truck</td>\n",
       "      <td>white</td>\n",
       "      <td>co</td>\n",
       "      <td>39.8302</td>\n",
       "      <td>-105.0370</td>\n",
       "    </tr>\n",
       "    <tr>\n",
       "      <th>25</th>\n",
       "      <td>syracuse</td>\n",
       "      <td>4000</td>\n",
       "      <td>1995.0</td>\n",
       "      <td>dodge</td>\n",
       "      <td>excellent</td>\n",
       "      <td>8 cylinders</td>\n",
       "      <td>gas</td>\n",
       "      <td>133000.0</td>\n",
       "      <td>clean</td>\n",
       "      <td>automatic</td>\n",
       "      <td>4wd</td>\n",
       "      <td>truck</td>\n",
       "      <td>grey</td>\n",
       "      <td>ny</td>\n",
       "      <td>43.0734</td>\n",
       "      <td>-76.1568</td>\n",
       "    </tr>\n",
       "    <tr>\n",
       "      <th>28</th>\n",
       "      <td>greensboro</td>\n",
       "      <td>16000</td>\n",
       "      <td>2011.0</td>\n",
       "      <td>bmw</td>\n",
       "      <td>excellent</td>\n",
       "      <td>6 cylinders</td>\n",
       "      <td>gas</td>\n",
       "      <td>85000.0</td>\n",
       "      <td>salvage</td>\n",
       "      <td>automatic</td>\n",
       "      <td>fwd</td>\n",
       "      <td>sedan</td>\n",
       "      <td>grey</td>\n",
       "      <td>nc</td>\n",
       "      <td>35.5895</td>\n",
       "      <td>-82.5671</td>\n",
       "    </tr>\n",
       "    <tr>\n",
       "      <th>29</th>\n",
       "      <td>syracuse</td>\n",
       "      <td>10950</td>\n",
       "      <td>2011.0</td>\n",
       "      <td>buick</td>\n",
       "      <td>excellent</td>\n",
       "      <td>6 cylinders</td>\n",
       "      <td>gas</td>\n",
       "      <td>43418.0</td>\n",
       "      <td>clean</td>\n",
       "      <td>automatic</td>\n",
       "      <td>fwd</td>\n",
       "      <td>sedan</td>\n",
       "      <td>red</td>\n",
       "      <td>ny</td>\n",
       "      <td>43.1226</td>\n",
       "      <td>-76.1284</td>\n",
       "    </tr>\n",
       "    <tr>\n",
       "      <th>31</th>\n",
       "      <td>syracuse</td>\n",
       "      <td>9400</td>\n",
       "      <td>2011.0</td>\n",
       "      <td>bmw</td>\n",
       "      <td>good</td>\n",
       "      <td>6 cylinders</td>\n",
       "      <td>gas</td>\n",
       "      <td>145000.0</td>\n",
       "      <td>clean</td>\n",
       "      <td>automatic</td>\n",
       "      <td>4wd</td>\n",
       "      <td>SUV</td>\n",
       "      <td>blue</td>\n",
       "      <td>ny</td>\n",
       "      <td>43.1707</td>\n",
       "      <td>-76.0962</td>\n",
       "    </tr>\n",
       "  </tbody>\n",
       "</table>\n",
       "</div>"
      ],
      "text/plain": [
       "        region  price    year manufacturer  condition    cylinders fuel  \\\n",
       "13      denver   7995  2010.0    chevrolet  excellent  8 cylinders  gas   \n",
       "25    syracuse   4000  1995.0        dodge  excellent  8 cylinders  gas   \n",
       "28  greensboro  16000  2011.0          bmw  excellent  6 cylinders  gas   \n",
       "29    syracuse  10950  2011.0        buick  excellent  6 cylinders  gas   \n",
       "31    syracuse   9400  2011.0          bmw       good  6 cylinders  gas   \n",
       "\n",
       "    odometer title_status transmission drive   type paint_color state  \\\n",
       "13  194050.0        clean    automatic   4wd  truck       white    co   \n",
       "25  133000.0        clean    automatic   4wd  truck        grey    ny   \n",
       "28   85000.0      salvage    automatic   fwd  sedan        grey    nc   \n",
       "29   43418.0        clean    automatic   fwd  sedan         red    ny   \n",
       "31  145000.0        clean    automatic   4wd    SUV        blue    ny   \n",
       "\n",
       "        lat      long  \n",
       "13  39.8302 -105.0370  \n",
       "25  43.0734  -76.1568  \n",
       "28  35.5895  -82.5671  \n",
       "29  43.1226  -76.1284  \n",
       "31  43.1707  -76.0962  "
      ]
     },
     "execution_count": 73,
     "metadata": {},
     "output_type": "execute_result"
    }
   ],
   "source": [
    "cars = pd.read_csv('cars.csv',index_col=0)\n",
    "cars.head()"
   ]
  },
  {
   "cell_type": "code",
   "execution_count": 74,
   "metadata": {},
   "outputs": [
    {
     "data": {
      "text/html": [
       "<div>\n",
       "<style scoped>\n",
       "    .dataframe tbody tr th:only-of-type {\n",
       "        vertical-align: middle;\n",
       "    }\n",
       "\n",
       "    .dataframe tbody tr th {\n",
       "        vertical-align: top;\n",
       "    }\n",
       "\n",
       "    .dataframe thead th {\n",
       "        text-align: right;\n",
       "    }\n",
       "</style>\n",
       "<table border=\"1\" class=\"dataframe\">\n",
       "  <thead>\n",
       "    <tr style=\"text-align: right;\">\n",
       "      <th></th>\n",
       "      <th>price</th>\n",
       "      <th>year</th>\n",
       "      <th>manufacturer</th>\n",
       "      <th>condition</th>\n",
       "      <th>cylinders</th>\n",
       "      <th>fuel</th>\n",
       "      <th>odometer</th>\n",
       "      <th>title_status</th>\n",
       "      <th>transmission</th>\n",
       "      <th>drive</th>\n",
       "      <th>type</th>\n",
       "      <th>paint_color</th>\n",
       "    </tr>\n",
       "  </thead>\n",
       "  <tbody>\n",
       "    <tr>\n",
       "      <th>13</th>\n",
       "      <td>7995</td>\n",
       "      <td>2010.0</td>\n",
       "      <td>chevrolet</td>\n",
       "      <td>excellent</td>\n",
       "      <td>8 cylinders</td>\n",
       "      <td>gas</td>\n",
       "      <td>194050.0</td>\n",
       "      <td>clean</td>\n",
       "      <td>automatic</td>\n",
       "      <td>4wd</td>\n",
       "      <td>truck</td>\n",
       "      <td>white</td>\n",
       "    </tr>\n",
       "    <tr>\n",
       "      <th>25</th>\n",
       "      <td>4000</td>\n",
       "      <td>1995.0</td>\n",
       "      <td>dodge</td>\n",
       "      <td>excellent</td>\n",
       "      <td>8 cylinders</td>\n",
       "      <td>gas</td>\n",
       "      <td>133000.0</td>\n",
       "      <td>clean</td>\n",
       "      <td>automatic</td>\n",
       "      <td>4wd</td>\n",
       "      <td>truck</td>\n",
       "      <td>grey</td>\n",
       "    </tr>\n",
       "    <tr>\n",
       "      <th>28</th>\n",
       "      <td>16000</td>\n",
       "      <td>2011.0</td>\n",
       "      <td>bmw</td>\n",
       "      <td>excellent</td>\n",
       "      <td>6 cylinders</td>\n",
       "      <td>gas</td>\n",
       "      <td>85000.0</td>\n",
       "      <td>salvage</td>\n",
       "      <td>automatic</td>\n",
       "      <td>fwd</td>\n",
       "      <td>sedan</td>\n",
       "      <td>grey</td>\n",
       "    </tr>\n",
       "  </tbody>\n",
       "</table>\n",
       "</div>"
      ],
      "text/plain": [
       "    price    year manufacturer  condition    cylinders fuel  odometer  \\\n",
       "13   7995  2010.0    chevrolet  excellent  8 cylinders  gas  194050.0   \n",
       "25   4000  1995.0        dodge  excellent  8 cylinders  gas  133000.0   \n",
       "28  16000  2011.0          bmw  excellent  6 cylinders  gas   85000.0   \n",
       "\n",
       "   title_status transmission drive   type paint_color  \n",
       "13        clean    automatic   4wd  truck       white  \n",
       "25        clean    automatic   4wd  truck        grey  \n",
       "28      salvage    automatic   fwd  sedan        grey  "
      ]
     },
     "execution_count": 74,
     "metadata": {},
     "output_type": "execute_result"
    }
   ],
   "source": [
    "cars.drop(['region','state','lat','long'], inplace=True, axis=1)\n",
    "cars.head(3)"
   ]
  },
  {
   "cell_type": "code",
   "execution_count": 75,
   "metadata": {},
   "outputs": [],
   "source": [
    "from sklearn_pandas import DataFrameMapper\n",
    "from sklearn.preprocessing import OneHotEncoder, OrdinalEncoder, StandardScaler\n",
    "from sklearn.model_selection import train_test_split, GridSearchCV\n",
    "from sklearn.decomposition import PCA\n",
    "from sklearn.pipeline import Pipeline\n",
    "from sklearn.linear_model import LinearRegression\n",
    "from sklearn.ensemble import RandomForestRegressor\n",
    "from sklearn.tree import DecisionTreeRegressor\n",
    "from sklearn.metrics import mean_absolute_error, mean_squared_error\n",
    "from pprint import pprint"
   ]
  },
  {
   "cell_type": "code",
   "execution_count": 76,
   "metadata": {},
   "outputs": [],
   "source": [
    "mapper = DataFrameMapper([\n",
    "    (['condition','cylinders','title_status'], OrdinalEncoder(categories=[['salvage','fair','good','excellent','like new','new'],\n",
    "                                                                   ['3 cylinders','4 cylinders','5 cylinders','6 cylinders','8 cylinders','10 cylinders','12 cylinders','other'],\n",
    "                                                                   ['salvage','parts only','missing','rebuilt','lien','clean']])),\n",
    "    (['manufacturer','fuel','transmission','drive','type','paint_color'], OneHotEncoder(handle_unknown='ignore')),\n",
    "    (['year', 'odometer'], StandardScaler())\n",
    "])"
   ]
  },
  {
   "cell_type": "code",
   "execution_count": 77,
   "metadata": {},
   "outputs": [],
   "source": [
    "feature = cars.columns.drop(['price'])\n",
    "xtrain, xtest, ytrain, ytest = train_test_split(cars[feature],cars['price'],test_size=.2)"
   ]
  },
  {
   "cell_type": "code",
   "execution_count": 78,
   "metadata": {},
   "outputs": [],
   "source": [
    "pipelineRF = Pipeline(steps=[\n",
    "    ('mapper', mapper),\n",
    "    ('estimator', RandomForestRegressor())\n",
    "])"
   ]
  },
  {
   "cell_type": "code",
   "execution_count": 79,
   "metadata": {},
   "outputs": [
    {
     "data": {
      "text/plain": [
       "Pipeline(memory=None,\n",
       "         steps=[('mapper',\n",
       "                 DataFrameMapper(default=False, df_out=False,\n",
       "                                 features=[(['condition', 'cylinders',\n",
       "                                             'title_status'],\n",
       "                                            OrdinalEncoder(categories=[['salvage',\n",
       "                                                                        'fair',\n",
       "                                                                        'good',\n",
       "                                                                        'excellent',\n",
       "                                                                        'like '\n",
       "                                                                        'new',\n",
       "                                                                        'new'],\n",
       "                                                                       ['3 '\n",
       "                                                                        'cylinders',\n",
       "                                                                        '4 '\n",
       "                                                                        'cylinders',\n",
       "                                                                        '5 '\n",
       "                                                                        'cylinders',\n",
       "                                                                        '6 '\n",
       "                                                                        'cylinders',\n",
       "                                                                        '8 '\n",
       "                                                                        'cylinders',\n",
       "                                                                        '10 '\n",
       "                                                                        'cylinders',\n",
       "                                                                        '12 '\n",
       "                                                                        'cylinders',\n",
       "                                                                        'other'],\n",
       "                                                                       ['salvage',\n",
       "                                                                        'parts...\n",
       "                 RandomForestRegressor(bootstrap=True, ccp_alpha=0.0,\n",
       "                                       criterion='mse', max_depth=None,\n",
       "                                       max_features='auto', max_leaf_nodes=None,\n",
       "                                       max_samples=None,\n",
       "                                       min_impurity_decrease=0.0,\n",
       "                                       min_impurity_split=None,\n",
       "                                       min_samples_leaf=1, min_samples_split=2,\n",
       "                                       min_weight_fraction_leaf=0.0,\n",
       "                                       n_estimators=100, n_jobs=None,\n",
       "                                       oob_score=False, random_state=None,\n",
       "                                       verbose=0, warm_start=False))],\n",
       "         verbose=False)"
      ]
     },
     "execution_count": 79,
     "metadata": {},
     "output_type": "execute_result"
    }
   ],
   "source": [
    "pipelineRF.fit(xtrain, ytrain)"
   ]
  },
  {
   "cell_type": "code",
   "execution_count": 80,
   "metadata": {},
   "outputs": [],
   "source": [
    "predRF = pipelineRF.predict(xtest)"
   ]
  },
  {
   "cell_type": "code",
   "execution_count": 81,
   "metadata": {},
   "outputs": [],
   "source": [
    "maerf = mean_absolute_error(ytest, predRF)\n",
    "rmserf = np.sqrt(mean_squared_error(ytest, predRF))"
   ]
  },
  {
   "cell_type": "code",
   "execution_count": 82,
   "metadata": {},
   "outputs": [],
   "source": [
    "pipelineDT = Pipeline(steps=[\n",
    "    ('mapper', mapper),\n",
    "    ('model', DecisionTreeRegressor())\n",
    "])"
   ]
  },
  {
   "cell_type": "code",
   "execution_count": 83,
   "metadata": {},
   "outputs": [
    {
     "data": {
      "text/plain": [
       "Pipeline(memory=None,\n",
       "         steps=[('mapper',\n",
       "                 DataFrameMapper(default=False, df_out=False,\n",
       "                                 features=[(['condition', 'cylinders',\n",
       "                                             'title_status'],\n",
       "                                            OrdinalEncoder(categories=[['salvage',\n",
       "                                                                        'fair',\n",
       "                                                                        'good',\n",
       "                                                                        'excellent',\n",
       "                                                                        'like '\n",
       "                                                                        'new',\n",
       "                                                                        'new'],\n",
       "                                                                       ['3 '\n",
       "                                                                        'cylinders',\n",
       "                                                                        '4 '\n",
       "                                                                        'cylinders',\n",
       "                                                                        '5 '\n",
       "                                                                        'cylinders',\n",
       "                                                                        '6 '\n",
       "                                                                        'cylinders',\n",
       "                                                                        '8 '\n",
       "                                                                        'cylinders',\n",
       "                                                                        '10 '\n",
       "                                                                        'cylinders',\n",
       "                                                                        '12 '\n",
       "                                                                        'cylinders',\n",
       "                                                                        'other'],\n",
       "                                                                       ['salvage',\n",
       "                                                                        'parts...\n",
       "                                                           with_std=True))],\n",
       "                                 input_df=False, sparse=False)),\n",
       "                ('model',\n",
       "                 DecisionTreeRegressor(ccp_alpha=0.0, criterion='mse',\n",
       "                                       max_depth=None, max_features=None,\n",
       "                                       max_leaf_nodes=None,\n",
       "                                       min_impurity_decrease=0.0,\n",
       "                                       min_impurity_split=None,\n",
       "                                       min_samples_leaf=1, min_samples_split=2,\n",
       "                                       min_weight_fraction_leaf=0.0,\n",
       "                                       presort='deprecated', random_state=None,\n",
       "                                       splitter='best'))],\n",
       "         verbose=False)"
      ]
     },
     "execution_count": 83,
     "metadata": {},
     "output_type": "execute_result"
    }
   ],
   "source": [
    "pipelineDT.fit(xtrain, ytrain)"
   ]
  },
  {
   "cell_type": "code",
   "execution_count": 84,
   "metadata": {},
   "outputs": [],
   "source": [
    "predDT = pipelineDT.predict(xtest)"
   ]
  },
  {
   "cell_type": "code",
   "execution_count": 85,
   "metadata": {},
   "outputs": [],
   "source": [
    "maedt = mean_absolute_error(ytest, predDT)\n",
    "rmsedt = np.sqrt(mean_squared_error(ytest, predDT))"
   ]
  },
  {
   "cell_type": "code",
   "execution_count": 86,
   "metadata": {},
   "outputs": [
    {
     "data": {
      "text/plain": [
       "{'ccp_alpha': 0.0,\n",
       " 'criterion': 'mse',\n",
       " 'max_depth': None,\n",
       " 'max_features': None,\n",
       " 'max_leaf_nodes': None,\n",
       " 'min_impurity_decrease': 0.0,\n",
       " 'min_impurity_split': None,\n",
       " 'min_samples_leaf': 1,\n",
       " 'min_samples_split': 2,\n",
       " 'min_weight_fraction_leaf': 0.0,\n",
       " 'presort': 'deprecated',\n",
       " 'random_state': None,\n",
       " 'splitter': 'best'}"
      ]
     },
     "execution_count": 86,
     "metadata": {},
     "output_type": "execute_result"
    }
   ],
   "source": [
    "DecisionTreeRegressor().get_params()"
   ]
  },
  {
   "cell_type": "code",
   "execution_count": 87,
   "metadata": {},
   "outputs": [],
   "source": [
    "param = {\n",
    "    'model__criterion':['mse','mae','friedman_mse'],\n",
    "    'model__splitter':['best','random'],\n",
    "    'model__min_samples_split':[2,4,6]\n",
    "}"
   ]
  },
  {
   "cell_type": "code",
   "execution_count": 88,
   "metadata": {},
   "outputs": [],
   "source": [
    "gs = GridSearchCV(pipelineDT,param_grid=param,cv=3)"
   ]
  },
  {
   "cell_type": "code",
   "execution_count": 89,
   "metadata": {},
   "outputs": [
    {
     "data": {
      "text/plain": [
       "GridSearchCV(cv=3, error_score=nan,\n",
       "             estimator=Pipeline(memory=None,\n",
       "                                steps=[('mapper',\n",
       "                                        DataFrameMapper(default=False,\n",
       "                                                        df_out=False,\n",
       "                                                        features=[(['condition',\n",
       "                                                                    'cylinders',\n",
       "                                                                    'title_status'],\n",
       "                                                                   OrdinalEncoder(categories=[['salvage',\n",
       "                                                                                               'fair',\n",
       "                                                                                               'good',\n",
       "                                                                                               'excellent',\n",
       "                                                                                               'like '\n",
       "                                                                                               'new',\n",
       "                                                                                               'new'],\n",
       "                                                                                              ['3 '\n",
       "                                                                                               'cylinders',\n",
       "                                                                                               '4 '\n",
       "                                                                                               'cylinders',\n",
       "                                                                                               '5 '\n",
       "                                                                                               'cylinders',\n",
       "                                                                                               '6 '\n",
       "                                                                                               'cylinders',\n",
       "                                                                                               '8 '\n",
       "                                                                                               'cylinders',\n",
       "                                                                                               '10 '\n",
       "                                                                                               'cylinders...\n",
       "                                                              min_samples_split=2,\n",
       "                                                              min_weight_fraction_leaf=0.0,\n",
       "                                                              presort='deprecated',\n",
       "                                                              random_state=None,\n",
       "                                                              splitter='best'))],\n",
       "                                verbose=False),\n",
       "             iid='deprecated', n_jobs=None,\n",
       "             param_grid={'model__criterion': ['mse', 'mae', 'friedman_mse'],\n",
       "                         'model__min_samples_split': [2, 4, 6],\n",
       "                         'model__splitter': ['best', 'random']},\n",
       "             pre_dispatch='2*n_jobs', refit=True, return_train_score=False,\n",
       "             scoring=None, verbose=0)"
      ]
     },
     "execution_count": 89,
     "metadata": {},
     "output_type": "execute_result"
    }
   ],
   "source": [
    "gs.fit(xtrain,ytrain)\n",
    "# pipelineDT.get_params()"
   ]
  },
  {
   "cell_type": "code",
   "execution_count": 90,
   "metadata": {},
   "outputs": [
    {
     "data": {
      "text/plain": [
       "{'model__criterion': 'friedman_mse',\n",
       " 'model__min_samples_split': 6,\n",
       " 'model__splitter': 'random'}"
      ]
     },
     "execution_count": 90,
     "metadata": {},
     "output_type": "execute_result"
    }
   ],
   "source": [
    "gs.best_params_"
   ]
  },
  {
   "cell_type": "code",
   "execution_count": 91,
   "metadata": {},
   "outputs": [],
   "source": [
    "predGS = gs.predict(xtest)"
   ]
  },
  {
   "cell_type": "code",
   "execution_count": 92,
   "metadata": {},
   "outputs": [],
   "source": [
    "maegs = mean_absolute_error(ytest, predGS)\n",
    "rmsegs = np.sqrt(mean_squared_error(ytest,predGS))"
   ]
  },
  {
   "cell_type": "code",
   "execution_count": 93,
   "metadata": {},
   "outputs": [],
   "source": [
    "from xgboost import XGBRegressor"
   ]
  },
  {
   "cell_type": "code",
   "execution_count": 94,
   "metadata": {},
   "outputs": [],
   "source": [
    "pipeXGB = Pipeline(steps=[\n",
    "    ('mapper',mapper),\n",
    "    ('model',XGBRegressor(objective='reg:squarederror'))\n",
    "])"
   ]
  },
  {
   "cell_type": "code",
   "execution_count": 95,
   "metadata": {},
   "outputs": [],
   "source": [
    "parameters = {\n",
    "    'model__n_estimators': [60, 100, 120, 140],\n",
    "    'model__learning_rate': [0.01, 0.1],\n",
    "    'model__max_depth': [5, 7],\n",
    "    'model__early_stopping_rounds':[5,10],\n",
    "    'model__max_depth':[5,7]\n",
    "}"
   ]
  },
  {
   "cell_type": "code",
   "execution_count": 96,
   "metadata": {},
   "outputs": [
    {
     "data": {
      "text/plain": [
       "Pipeline(memory=None,\n",
       "         steps=[('mapper',\n",
       "                 DataFrameMapper(default=False, df_out=False,\n",
       "                                 features=[(['condition', 'cylinders',\n",
       "                                             'title_status'],\n",
       "                                            OrdinalEncoder(categories=[['salvage',\n",
       "                                                                        'fair',\n",
       "                                                                        'good',\n",
       "                                                                        'excellent',\n",
       "                                                                        'like '\n",
       "                                                                        'new',\n",
       "                                                                        'new'],\n",
       "                                                                       ['3 '\n",
       "                                                                        'cylinders',\n",
       "                                                                        '4 '\n",
       "                                                                        'cylinders',\n",
       "                                                                        '5 '\n",
       "                                                                        'cylinders',\n",
       "                                                                        '6 '\n",
       "                                                                        'cylinders',\n",
       "                                                                        '8 '\n",
       "                                                                        'cylinders',\n",
       "                                                                        '10 '\n",
       "                                                                        'cylinders',\n",
       "                                                                        '12 '\n",
       "                                                                        'cylinders',\n",
       "                                                                        'other'],\n",
       "                                                                       ['salvage',\n",
       "                                                                        'parts...\n",
       "                              colsample_bylevel=1, colsample_bynode=1,\n",
       "                              colsample_bytree=1, gamma=0,\n",
       "                              importance_type='gain', learning_rate=0.1,\n",
       "                              max_delta_step=0, max_depth=3, min_child_weight=1,\n",
       "                              missing=None, n_estimators=100, n_jobs=1,\n",
       "                              nthread=None, objective='reg:squarederror',\n",
       "                              random_state=0, reg_alpha=0, reg_lambda=1,\n",
       "                              scale_pos_weight=1, seed=None, silent=None,\n",
       "                              subsample=1, verbosity=1))],\n",
       "         verbose=False)"
      ]
     },
     "execution_count": 96,
     "metadata": {},
     "output_type": "execute_result"
    }
   ],
   "source": [
    "pipeXGB.fit(xtrain,ytrain)"
   ]
  },
  {
   "cell_type": "code",
   "execution_count": 97,
   "metadata": {},
   "outputs": [],
   "source": [
    "predXGB = pipeXGB.predict(xtest)"
   ]
  },
  {
   "cell_type": "code",
   "execution_count": 98,
   "metadata": {},
   "outputs": [],
   "source": [
    "maexgb = mean_absolute_error(ytest, predXGB)\n",
    "rmsexgb = np.sqrt(mean_squared_error(ytest, predXGB))"
   ]
  },
  {
   "cell_type": "code",
   "execution_count": 99,
   "metadata": {},
   "outputs": [],
   "source": [
    "gs2 = GridSearchCV(pipeXGB,cv=3,param_grid=parameters)"
   ]
  },
  {
   "cell_type": "code",
   "execution_count": 100,
   "metadata": {},
   "outputs": [
    {
     "data": {
      "text/plain": [
       "GridSearchCV(cv=3, error_score=nan,\n",
       "             estimator=Pipeline(memory=None,\n",
       "                                steps=[('mapper',\n",
       "                                        DataFrameMapper(default=False,\n",
       "                                                        df_out=False,\n",
       "                                                        features=[(['condition',\n",
       "                                                                    'cylinders',\n",
       "                                                                    'title_status'],\n",
       "                                                                   OrdinalEncoder(categories=[['salvage',\n",
       "                                                                                               'fair',\n",
       "                                                                                               'good',\n",
       "                                                                                               'excellent',\n",
       "                                                                                               'like '\n",
       "                                                                                               'new',\n",
       "                                                                                               'new'],\n",
       "                                                                                              ['3 '\n",
       "                                                                                               'cylinders',\n",
       "                                                                                               '4 '\n",
       "                                                                                               'cylinders',\n",
       "                                                                                               '5 '\n",
       "                                                                                               'cylinders',\n",
       "                                                                                               '6 '\n",
       "                                                                                               'cylinders',\n",
       "                                                                                               '8 '\n",
       "                                                                                               'cylinders',\n",
       "                                                                                               '10 '\n",
       "                                                                                               'cylinders...\n",
       "                                                     reg_alpha=0, reg_lambda=1,\n",
       "                                                     scale_pos_weight=1,\n",
       "                                                     seed=None, silent=None,\n",
       "                                                     subsample=1,\n",
       "                                                     verbosity=1))],\n",
       "                                verbose=False),\n",
       "             iid='deprecated', n_jobs=None,\n",
       "             param_grid={'model__early_stopping_rounds': [5, 10],\n",
       "                         'model__learning_rate': [0.01, 0.1],\n",
       "                         'model__max_depth': [5, 7],\n",
       "                         'model__n_estimators': [60, 100, 120, 140]},\n",
       "             pre_dispatch='2*n_jobs', refit=True, return_train_score=False,\n",
       "             scoring=None, verbose=0)"
      ]
     },
     "execution_count": 100,
     "metadata": {},
     "output_type": "execute_result"
    }
   ],
   "source": [
    "gs2.fit(xtrain,ytrain)"
   ]
  },
  {
   "cell_type": "code",
   "execution_count": 101,
   "metadata": {},
   "outputs": [
    {
     "data": {
      "text/plain": [
       "{'model__early_stopping_rounds': 5,\n",
       " 'model__learning_rate': 0.1,\n",
       " 'model__max_depth': 7,\n",
       " 'model__n_estimators': 140}"
      ]
     },
     "execution_count": 101,
     "metadata": {},
     "output_type": "execute_result"
    }
   ],
   "source": [
    "gs2.best_params_"
   ]
  },
  {
   "cell_type": "code",
   "execution_count": 102,
   "metadata": {},
   "outputs": [],
   "source": [
    "predgs2 = gs2.predict(xtest)"
   ]
  },
  {
   "cell_type": "code",
   "execution_count": 103,
   "metadata": {},
   "outputs": [],
   "source": [
    "maegs2 = mean_absolute_error(ytest, predgs2)\n",
    "rmsegs2 = np.sqrt(mean_squared_error(ytest, predgs2))"
   ]
  },
  {
   "cell_type": "code",
   "execution_count": 104,
   "metadata": {},
   "outputs": [
    {
     "data": {
      "text/html": [
       "<div>\n",
       "<style scoped>\n",
       "    .dataframe tbody tr th:only-of-type {\n",
       "        vertical-align: middle;\n",
       "    }\n",
       "\n",
       "    .dataframe tbody tr th {\n",
       "        vertical-align: top;\n",
       "    }\n",
       "\n",
       "    .dataframe thead th {\n",
       "        text-align: right;\n",
       "    }\n",
       "</style>\n",
       "<table border=\"1\" class=\"dataframe\">\n",
       "  <thead>\n",
       "    <tr style=\"text-align: right;\">\n",
       "      <th></th>\n",
       "      <th>Model</th>\n",
       "      <th>Mean Absolute Error</th>\n",
       "      <th>Rooted Mean Squared Error</th>\n",
       "    </tr>\n",
       "  </thead>\n",
       "  <tbody>\n",
       "    <tr>\n",
       "      <th>0</th>\n",
       "      <td>Random Forest Regressor</td>\n",
       "      <td>1495.733202</td>\n",
       "      <td>2634.623438</td>\n",
       "    </tr>\n",
       "    <tr>\n",
       "      <th>1</th>\n",
       "      <td>Decision Tree Regressor</td>\n",
       "      <td>1819.944615</td>\n",
       "      <td>3436.214886</td>\n",
       "    </tr>\n",
       "    <tr>\n",
       "      <th>2</th>\n",
       "      <td>Grid Search Decision Tree Regressor</td>\n",
       "      <td>1929.986825</td>\n",
       "      <td>3365.489352</td>\n",
       "    </tr>\n",
       "    <tr>\n",
       "      <th>3</th>\n",
       "      <td>XGBoost</td>\n",
       "      <td>2355.858559</td>\n",
       "      <td>3462.665792</td>\n",
       "    </tr>\n",
       "    <tr>\n",
       "      <th>4</th>\n",
       "      <td>Grid Search XGBoost</td>\n",
       "      <td>1957.874816</td>\n",
       "      <td>2981.481709</td>\n",
       "    </tr>\n",
       "  </tbody>\n",
       "</table>\n",
       "</div>"
      ],
      "text/plain": [
       "                                 Model  Mean Absolute Error  \\\n",
       "0              Random Forest Regressor          1495.733202   \n",
       "1              Decision Tree Regressor          1819.944615   \n",
       "2  Grid Search Decision Tree Regressor          1929.986825   \n",
       "3                              XGBoost          2355.858559   \n",
       "4                  Grid Search XGBoost          1957.874816   \n",
       "\n",
       "   Rooted Mean Squared Error  \n",
       "0                2634.623438  \n",
       "1                3436.214886  \n",
       "2                3365.489352  \n",
       "3                3462.665792  \n",
       "4                2981.481709  "
      ]
     },
     "execution_count": 104,
     "metadata": {},
     "output_type": "execute_result"
    }
   ],
   "source": [
    "mae = pd.DataFrame({\n",
    "    'Model':['Random Forest Regressor','Decision Tree Regressor','Grid Search Decision Tree Regressor', 'XGBoost', 'Grid Search XGBoost'],\n",
    "    'Mean Absolute Error':[maerf, maedt, maegs, maexgb, maegs2],\n",
    "    'Rooted Mean Squared Error':[rmserf, rmsedt, rmsegs, rmsexgb, rmsegs2]\n",
    "})\n",
    "mae"
   ]
  },
  {
   "cell_type": "code",
   "execution_count": 105,
   "metadata": {},
   "outputs": [
    {
     "name": "stdout",
     "output_type": "stream",
     "text": [
      "Grid Search Decision Tree Regressor Best Parameters:\n",
      "{'model__criterion': 'friedman_mse',\n",
      " 'model__min_samples_split': 6,\n",
      " 'model__splitter': 'random'}\n"
     ]
    }
   ],
   "source": [
    "print(\"Grid Search Decision Tree Regressor Best Parameters:\")\n",
    "pprint(gs.best_params_)"
   ]
  },
  {
   "cell_type": "code",
   "execution_count": 106,
   "metadata": {},
   "outputs": [
    {
     "name": "stdout",
     "output_type": "stream",
     "text": [
      "Grid Search XGBoost Best Parameters:\n",
      "{'model__early_stopping_rounds': 5,\n",
      " 'model__learning_rate': 0.1,\n",
      " 'model__max_depth': 7,\n",
      " 'model__n_estimators': 140}\n"
     ]
    }
   ],
   "source": [
    "print(\"Grid Search XGBoost Best Parameters:\")\n",
    "pprint(gs2.best_params_)"
   ]
  },
  {
   "cell_type": "code",
   "execution_count": 1,
   "metadata": {},
   "outputs": [],
   "source": [
    "# import joblib\n",
    "# joblib.dump(pipelineRF, 'model')"
   ]
  }
 ],
 "metadata": {
  "kernelspec": {
   "display_name": "Python 3",
   "language": "python",
   "name": "python3"
  },
  "language_info": {
   "codemirror_mode": {
    "name": "ipython",
    "version": 3
   },
   "file_extension": ".py",
   "mimetype": "text/x-python",
   "name": "python",
   "nbconvert_exporter": "python",
   "pygments_lexer": "ipython3",
   "version": "3.7.6"
  }
 },
 "nbformat": 4,
 "nbformat_minor": 4
}
